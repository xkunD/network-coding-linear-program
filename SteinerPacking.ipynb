{
 "cells": [
  {
   "cell_type": "code",
   "execution_count": 25,
   "metadata": {},
   "outputs": [
    {
     "name": "stdout",
     "output_type": "stream",
     "text": [
      "Found 1 Steiner trees.\n",
      "Tree 1: [(0, 5), (0, 3), (5, 4), (5, 2), (3, 1)]\n"
     ]
    }
   ],
   "source": [
    "import networkx as nx\n",
    "from collections import deque\n",
    "\n",
    "def generate_steiner_trees(G, source, terminals):\n",
    "    terminals_set = set(terminals)\n",
    "    steiner_trees = []\n",
    "\n",
    "    # Start BFS from the source\n",
    "    queue = deque([(source, nx.DiGraph())])\n",
    "    while queue:\n",
    "        current_node, tree = queue.popleft()\n",
    "\n",
    "        # If current_node is a terminal and all terminals are reached, save the tree\n",
    "        if current_node in terminals_set:\n",
    "            if terminals_set.issubset(tree.nodes):\n",
    "                steiner_trees.append(tree.edges())\n",
    "                continue\n",
    "\n",
    "        # Expand to neighboring nodes\n",
    "        for neighbor in G.neighbors(current_node):\n",
    "            if neighbor not in tree.nodes:  # Avoid cycles\n",
    "                # Create new tree including this edge\n",
    "                new_tree = nx.DiGraph(tree.edges(data=True))\n",
    "                new_tree.add_edge(current_node, neighbor)\n",
    "                \n",
    "                # Check if new_tree is still a valid DAG\n",
    "                if nx.is_directed_acyclic_graph(new_tree):\n",
    "                    queue.append((neighbor, new_tree))\n",
    "\n",
    "    return steiner_trees\n",
    "\n",
    "# Define the graph\n",
    "G = nx.Graph()\n",
    "G.add_edges_from([(0, 5), (0, 3), (3, 4), (4, 5), (4, 6), (5, 2), (3, 1), (1, 6), (6, 2)])\n",
    "source = 0\n",
    "receivers = [1, 2]\n",
    "\n",
    "# Generate Steiner trees\n",
    "steiner_trees = generate_steiner_trees(G, source, receivers)\n",
    "print(f\"Found {len(steiner_trees)} Steiner trees.\")\n",
    "for index, tree in enumerate(steiner_trees):\n",
    "    print(f\"Tree {index + 1}: {list(tree)}\")\n"
   ]
  },
  {
   "cell_type": "code",
   "execution_count": null,
   "metadata": {},
   "outputs": [],
   "source": []
  }
 ],
 "metadata": {
  "kernelspec": {
   "display_name": "Python 3",
   "language": "python",
   "name": "python3"
  },
  "language_info": {
   "codemirror_mode": {
    "name": "ipython",
    "version": 3
   },
   "file_extension": ".py",
   "mimetype": "text/x-python",
   "name": "python",
   "nbconvert_exporter": "python",
   "pygments_lexer": "ipython3",
   "version": "3.11.0"
  },
  "orig_nbformat": 4
 },
 "nbformat": 4,
 "nbformat_minor": 2
}
