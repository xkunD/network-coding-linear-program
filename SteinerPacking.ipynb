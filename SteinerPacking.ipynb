{
 "cells": [
  {
   "cell_type": "code",
   "execution_count": 26,
   "metadata": {},
   "outputs": [
    {
     "name": "stdout",
     "output_type": "stream",
     "text": [
      "{(6, 2), (3, 4), (4, 3), (3, 1), (6, 1), (5, 4), (0, 3), (4, 6), (6, 4), (3, 0), (4, 5), (5, 0), (2, 6), (0, 5), (1, 6), (2, 5), (1, 3), (5, 2)}\n"
     ]
    }
   ],
   "source": [
    "# Import libraries\n",
    "import cvxpy as cp\n",
    "import numpy as np\n",
    "import networkx as nx\n",
    "\n",
    "\n",
    "G = nx.Graph()\n",
    "G.add_nodes_from([0,8])\n",
    "G.add_edges_from([(0,5),(0,3),(3,4),(4,5),(4,6),(5,2),(3,1),(1,6),(6,2)])\n",
    "\n",
    "source = 0\n",
    "recievers = {1,2}\n",
    "\n",
    "edges = set()\n",
    "\n",
    "for n, nbrs in G.adj.items():\n",
    "    for nbr, eattr in nbrs.items():\n",
    "        edges.add((n,nbr))\n",
    "\n",
    "print(edges)\n",
    "\n",
    "\n",
    "b = cp.Variable(boolean=True)\n",
    "\n",
    "\n"
   ]
  },
  {
   "cell_type": "code",
   "execution_count": null,
   "metadata": {},
   "outputs": [],
   "source": []
  }
 ],
 "metadata": {
  "kernelspec": {
   "display_name": "Python 3",
   "language": "python",
   "name": "python3"
  },
  "language_info": {
   "codemirror_mode": {
    "name": "ipython",
    "version": 3
   },
   "file_extension": ".py",
   "mimetype": "text/x-python",
   "name": "python",
   "nbconvert_exporter": "python",
   "pygments_lexer": "ipython3",
   "version": "3.11.0"
  },
  "orig_nbformat": 4
 },
 "nbformat": 4,
 "nbformat_minor": 2
}
